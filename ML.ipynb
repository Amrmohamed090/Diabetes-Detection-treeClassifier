{
 "cells": [
  {
   "cell_type": "code",
   "execution_count": 1,
   "id": "497d4850",
   "metadata": {},
   "outputs": [],
   "source": [
    "import numpy as np\n",
    "import pandas as pd\n",
    "from sklearn.preprocessing import StandardScaler\n",
    "from sklearn.model_selection import train_test_split\n",
    "from sklearn import svm\n",
    "from sklearn.metrics import accuracy_score"
   ]
  },
  {
   "cell_type": "code",
   "execution_count": 2,
   "id": "7146b2a5",
   "metadata": {},
   "outputs": [],
   "source": [
    "diabetes_dataset = pd.read_csv('data/diabetes - copy.csv') "
   ]
  },
  {
   "cell_type": "code",
   "execution_count": 3,
   "id": "59d165a8",
   "metadata": {},
   "outputs": [
    {
     "data": {
      "text/html": [
       "<div>\n",
       "<style scoped>\n",
       "    .dataframe tbody tr th:only-of-type {\n",
       "        vertical-align: middle;\n",
       "    }\n",
       "\n",
       "    .dataframe tbody tr th {\n",
       "        vertical-align: top;\n",
       "    }\n",
       "\n",
       "    .dataframe thead th {\n",
       "        text-align: right;\n",
       "    }\n",
       "</style>\n",
       "<table border=\"1\" class=\"dataframe\">\n",
       "  <thead>\n",
       "    <tr style=\"text-align: right;\">\n",
       "      <th></th>\n",
       "      <th>patient_number</th>\n",
       "      <th>cholesterol</th>\n",
       "      <th>glucose</th>\n",
       "      <th>hdl_chol</th>\n",
       "      <th>chol_hdl_ratio</th>\n",
       "      <th>age</th>\n",
       "      <th>gender</th>\n",
       "      <th>height</th>\n",
       "      <th>weight</th>\n",
       "      <th>bmi</th>\n",
       "      <th>systolic_bp</th>\n",
       "      <th>diastolic_bp</th>\n",
       "      <th>waist</th>\n",
       "      <th>hip</th>\n",
       "      <th>waist_hip_ratio</th>\n",
       "      <th>Diabetes</th>\n",
       "    </tr>\n",
       "  </thead>\n",
       "  <tbody>\n",
       "    <tr>\n",
       "      <th>0</th>\n",
       "      <td>1</td>\n",
       "      <td>193</td>\n",
       "      <td>77</td>\n",
       "      <td>49</td>\n",
       "      <td>3.9</td>\n",
       "      <td>19</td>\n",
       "      <td>0</td>\n",
       "      <td>61</td>\n",
       "      <td>119</td>\n",
       "      <td>22.5</td>\n",
       "      <td>118</td>\n",
       "      <td>70</td>\n",
       "      <td>32</td>\n",
       "      <td>38</td>\n",
       "      <td>0.84</td>\n",
       "      <td>0</td>\n",
       "    </tr>\n",
       "    <tr>\n",
       "      <th>1</th>\n",
       "      <td>2</td>\n",
       "      <td>146</td>\n",
       "      <td>79</td>\n",
       "      <td>41</td>\n",
       "      <td>3.6</td>\n",
       "      <td>19</td>\n",
       "      <td>0</td>\n",
       "      <td>60</td>\n",
       "      <td>135</td>\n",
       "      <td>26.4</td>\n",
       "      <td>108</td>\n",
       "      <td>58</td>\n",
       "      <td>33</td>\n",
       "      <td>40</td>\n",
       "      <td>0.83</td>\n",
       "      <td>0</td>\n",
       "    </tr>\n",
       "    <tr>\n",
       "      <th>2</th>\n",
       "      <td>3</td>\n",
       "      <td>217</td>\n",
       "      <td>75</td>\n",
       "      <td>54</td>\n",
       "      <td>4.0</td>\n",
       "      <td>20</td>\n",
       "      <td>0</td>\n",
       "      <td>67</td>\n",
       "      <td>187</td>\n",
       "      <td>29.3</td>\n",
       "      <td>110</td>\n",
       "      <td>72</td>\n",
       "      <td>40</td>\n",
       "      <td>45</td>\n",
       "      <td>0.89</td>\n",
       "      <td>0</td>\n",
       "    </tr>\n",
       "    <tr>\n",
       "      <th>3</th>\n",
       "      <td>4</td>\n",
       "      <td>226</td>\n",
       "      <td>97</td>\n",
       "      <td>70</td>\n",
       "      <td>3.2</td>\n",
       "      <td>20</td>\n",
       "      <td>0</td>\n",
       "      <td>64</td>\n",
       "      <td>114</td>\n",
       "      <td>19.6</td>\n",
       "      <td>122</td>\n",
       "      <td>64</td>\n",
       "      <td>31</td>\n",
       "      <td>39</td>\n",
       "      <td>0.79</td>\n",
       "      <td>0</td>\n",
       "    </tr>\n",
       "    <tr>\n",
       "      <th>4</th>\n",
       "      <td>5</td>\n",
       "      <td>164</td>\n",
       "      <td>91</td>\n",
       "      <td>67</td>\n",
       "      <td>2.4</td>\n",
       "      <td>20</td>\n",
       "      <td>0</td>\n",
       "      <td>70</td>\n",
       "      <td>141</td>\n",
       "      <td>20.2</td>\n",
       "      <td>122</td>\n",
       "      <td>86</td>\n",
       "      <td>32</td>\n",
       "      <td>39</td>\n",
       "      <td>0.82</td>\n",
       "      <td>0</td>\n",
       "    </tr>\n",
       "  </tbody>\n",
       "</table>\n",
       "</div>"
      ],
      "text/plain": [
       "   patient_number  cholesterol  glucose  hdl_chol  chol_hdl_ratio  age  \\\n",
       "0               1          193       77        49             3.9   19   \n",
       "1               2          146       79        41             3.6   19   \n",
       "2               3          217       75        54             4.0   20   \n",
       "3               4          226       97        70             3.2   20   \n",
       "4               5          164       91        67             2.4   20   \n",
       "\n",
       "   gender  height  weight   bmi  systolic_bp  diastolic_bp  waist  hip  \\\n",
       "0       0      61     119  22.5          118            70     32   38   \n",
       "1       0      60     135  26.4          108            58     33   40   \n",
       "2       0      67     187  29.3          110            72     40   45   \n",
       "3       0      64     114  19.6          122            64     31   39   \n",
       "4       0      70     141  20.2          122            86     32   39   \n",
       "\n",
       "   waist_hip_ratio  Diabetes  \n",
       "0             0.84         0  \n",
       "1             0.83         0  \n",
       "2             0.89         0  \n",
       "3             0.79         0  \n",
       "4             0.82         0  "
      ]
     },
     "execution_count": 3,
     "metadata": {},
     "output_type": "execute_result"
    }
   ],
   "source": [
    "diabetes_dataset.head()"
   ]
  },
  {
   "cell_type": "code",
   "execution_count": 4,
   "id": "a9dd1bea",
   "metadata": {
    "scrolled": true
   },
   "outputs": [
    {
     "name": "stdout",
     "output_type": "stream",
     "text": [
      "<class 'pandas.core.frame.DataFrame'>\n",
      "RangeIndex: 390 entries, 0 to 389\n",
      "Data columns (total 16 columns):\n",
      " #   Column           Non-Null Count  Dtype  \n",
      "---  ------           --------------  -----  \n",
      " 0   patient_number   390 non-null    int64  \n",
      " 1   cholesterol      390 non-null    int64  \n",
      " 2   glucose          390 non-null    int64  \n",
      " 3   hdl_chol         390 non-null    int64  \n",
      " 4   chol_hdl_ratio   390 non-null    float64\n",
      " 5   age              390 non-null    int64  \n",
      " 6   gender           390 non-null    int64  \n",
      " 7   height           390 non-null    int64  \n",
      " 8   weight           390 non-null    int64  \n",
      " 9   bmi              390 non-null    float64\n",
      " 10  systolic_bp      390 non-null    int64  \n",
      " 11  diastolic_bp     390 non-null    int64  \n",
      " 12  waist            390 non-null    int64  \n",
      " 13  hip              390 non-null    int64  \n",
      " 14  waist_hip_ratio  390 non-null    float64\n",
      " 15  Diabetes         390 non-null    int64  \n",
      "dtypes: float64(3), int64(13)\n",
      "memory usage: 48.9 KB\n"
     ]
    }
   ],
   "source": [
    "diabetes_dataset.info()"
   ]
  },
  {
   "cell_type": "code",
   "execution_count": 5,
   "id": "413af69f",
   "metadata": {},
   "outputs": [],
   "source": [
    "diabetes_dataset = diabetes_dataset.drop([\"patient_number\"], axis=1)"
   ]
  },
  {
   "cell_type": "code",
   "execution_count": 6,
   "id": "edd9bf66",
   "metadata": {},
   "outputs": [
    {
     "data": {
      "text/plain": [
       "0    330\n",
       "1     60\n",
       "Name: Diabetes, dtype: int64"
      ]
     },
     "execution_count": 6,
     "metadata": {},
     "output_type": "execute_result"
    }
   ],
   "source": [
    "diabetes_dataset['Diabetes'].value_counts()"
   ]
  },
  {
   "cell_type": "code",
   "execution_count": 7,
   "id": "85a91b71",
   "metadata": {},
   "outputs": [
    {
     "name": "stdout",
     "output_type": "stream",
     "text": [
      "     cholesterol  glucose  hdl_chol  chol_hdl_ratio  age  gender  height  \\\n",
      "0            193       77        49             3.9   19       0      61   \n",
      "1            146       79        41             3.6   19       0      60   \n",
      "2            217       75        54             4.0   20       0      67   \n",
      "3            226       97        70             3.2   20       0      64   \n",
      "4            164       91        67             2.4   20       0      70   \n",
      "..           ...      ...       ...             ...  ...     ...     ...   \n",
      "385          227      105        44             5.2   83       0      59   \n",
      "386          226      279        52             4.3   84       0      60   \n",
      "387          301       90       118             2.6   89       0      61   \n",
      "388          232      184       114             2.0   91       0      61   \n",
      "389          165       94        69             2.4   92       0      62   \n",
      "\n",
      "     weight   bmi  systolic_bp  diastolic_bp  waist  hip  waist_hip_ratio  \n",
      "0       119  22.5          118            70     32   38             0.84  \n",
      "1       135  26.4          108            58     33   40             0.83  \n",
      "2       187  29.3          110            72     40   45             0.89  \n",
      "3       114  19.6          122            64     31   39             0.79  \n",
      "4       141  20.2          122            86     32   39             0.82  \n",
      "..      ...   ...          ...           ...    ...  ...              ...  \n",
      "385     125  25.2          150            90     35   40             0.88  \n",
      "386     192  37.5          144            88     41   48             0.85  \n",
      "387     115  21.7          218            90     31   41             0.76  \n",
      "388     127  24.0          170            82     35   38             0.92  \n",
      "389     217  39.7          160            82     51   51             1.00  \n",
      "\n",
      "[390 rows x 14 columns]\n"
     ]
    }
   ],
   "source": [
    "X = diabetes_dataset.drop(columns = 'Diabetes', axis=1)\n",
    "Y = diabetes_dataset['Diabetes']\n",
    "print(X)"
   ]
  },
  {
   "cell_type": "code",
   "execution_count": 8,
   "id": "aa24ce71",
   "metadata": {},
   "outputs": [],
   "source": [
    "scaler = StandardScaler()"
   ]
  },
  {
   "cell_type": "code",
   "execution_count": 9,
   "id": "f863a0f6",
   "metadata": {},
   "outputs": [
    {
     "data": {
      "text/plain": [
       "StandardScaler()"
      ]
     },
     "execution_count": 9,
     "metadata": {},
     "output_type": "execute_result"
    }
   ],
   "source": [
    "scaler.fit(X)"
   ]
  },
  {
   "cell_type": "code",
   "execution_count": 10,
   "id": "9e26e98e",
   "metadata": {},
   "outputs": [],
   "source": [
    "standardized_data = scaler.transform(X)"
   ]
  },
  {
   "cell_type": "code",
   "execution_count": 11,
   "id": "f07a917a",
   "metadata": {},
   "outputs": [],
   "source": [
    "X = standardized_data\n",
    "Y = diabetes_dataset['Diabetes']"
   ]
  },
  {
   "cell_type": "code",
   "execution_count": 12,
   "id": "32bd9629",
   "metadata": {},
   "outputs": [
    {
     "name": "stdout",
     "output_type": "stream",
     "text": [
      "[[ 1.40710724 -0.63910275 -0.59493102 ...  0.19653396 -0.35217979\n",
      "   0.93841584]\n",
      " [ 0.46558696 -0.76938579 -0.30519189 ... -0.84629929 -0.88248912\n",
      "  -0.15570128]\n",
      " [ 0.15174686 -0.5646553  -0.13134841 ...  0.3703395   0.17812954\n",
      "   0.39135728]\n",
      " ...\n",
      " [-0.83460773 -0.7135502   0.79581682 ... -0.15107712 -0.52894956\n",
      "   0.66488656]\n",
      " [-1.39503647 -0.41576039 -1.23235712 ... -1.19391037 -1.41279845\n",
      "   0.117828  ]\n",
      " [-0.22934469  0.23565482 -0.7687745  ... -0.15107712  0.17812954\n",
      "  -0.5659952 ]]\n"
     ]
    }
   ],
   "source": [
    "X_train, X_test, Y_train, Y_test = train_test_split(X,Y, test_size = 0.2, stratify=Y, random_state=5)\n",
    "print (X_test)"
   ]
  },
  {
   "cell_type": "code",
   "execution_count": 13,
   "id": "ca680bbd",
   "metadata": {},
   "outputs": [],
   "source": [
    "from sklearn.tree import DecisionTreeClassifier"
   ]
  },
  {
   "cell_type": "code",
   "execution_count": 14,
   "id": "3e772172",
   "metadata": {},
   "outputs": [],
   "source": [
    "model = DecisionTreeClassifier()"
   ]
  },
  {
   "cell_type": "code",
   "execution_count": 15,
   "id": "c1c8e980",
   "metadata": {},
   "outputs": [
    {
     "data": {
      "text/plain": [
       "DecisionTreeClassifier()"
      ]
     },
     "execution_count": 15,
     "metadata": {},
     "output_type": "execute_result"
    }
   ],
   "source": [
    "model.fit(X_train, Y_train)"
   ]
  },
  {
   "cell_type": "code",
   "execution_count": 16,
   "id": "17938d5c",
   "metadata": {},
   "outputs": [],
   "source": [
    "predictions = model.predict(X_train)"
   ]
  },
  {
   "cell_type": "code",
   "execution_count": 17,
   "id": "ce27d6b3",
   "metadata": {},
   "outputs": [
    {
     "data": {
      "text/plain": [
       "1.0"
      ]
     },
     "execution_count": 17,
     "metadata": {},
     "output_type": "execute_result"
    }
   ],
   "source": [
    "X_train_prediction = model.predict(X_train)\n",
    "accuracy_score(X_train_prediction, Y_train)"
   ]
  },
  {
   "cell_type": "code",
   "execution_count": 18,
   "id": "841aeb4e",
   "metadata": {},
   "outputs": [
    {
     "name": "stdout",
     "output_type": "stream",
     "text": [
      "[[ 1.40710724 -0.63910275 -0.59493102 ...  0.19653396 -0.35217979\n",
      "   0.93841584]\n",
      " [ 0.46558696 -0.76938579 -0.30519189 ... -0.84629929 -0.88248912\n",
      "  -0.15570128]\n",
      " [ 0.15174686 -0.5646553  -0.13134841 ...  0.3703395   0.17812954\n",
      "   0.39135728]\n",
      " ...\n",
      " [-0.83460773 -0.7135502   0.79581682 ... -0.15107712 -0.52894956\n",
      "   0.66488656]\n",
      " [-1.39503647 -0.41576039 -1.23235712 ... -1.19391037 -1.41279845\n",
      "   0.117828  ]\n",
      " [-0.22934469  0.23565482 -0.7687745  ... -0.15107712  0.17812954\n",
      "  -0.5659952 ]]\n"
     ]
    },
    {
     "data": {
      "text/plain": [
       "0.8717948717948718"
      ]
     },
     "execution_count": 18,
     "metadata": {},
     "output_type": "execute_result"
    }
   ],
   "source": [
    "print(X_test)\n",
    "X_test_prediction = model.predict(X_test)\n",
    "accuracy_score(X_test_prediction, Y_test)"
   ]
  },
  {
   "cell_type": "code",
   "execution_count": 19,
   "id": "a8c67030",
   "metadata": {},
   "outputs": [
    {
     "name": "stdout",
     "output_type": "stream",
     "text": [
      "   cholesterol  glucose  hdl_chol  chol_hdl_ratio  age  gender  height  \\\n",
      "0          194     2619       138             5.1   29       0      69   \n",
      "\n",
      "   weight   bmi  systolic_bp  diastolic_bp  waist  hip  waist_hip_ratio  \n",
      "0     167  24.7          120            70     33   40             0.83  \n"
     ]
    },
    {
     "name": "stderr",
     "output_type": "stream",
     "text": [
      "C:\\xampp\\htdocs\\Final Project\\amrproject\\env\\lib\\site-packages\\sklearn\\base.py:443: UserWarning: X has feature names, but DecisionTreeClassifier was fitted without feature names\n",
      "  warnings.warn(\n"
     ]
    }
   ],
   "source": [
    "test = {'cholesterol':[194], 'glucose': [2619], 'hdl_chol': [138], 'chol_hdl_ratio': [5.1], 'age': [29],'gender':  [0], 'height': [69], 'weight': [167], 'bmi': [24.7], 'systolic_bp': [120], 'diastolic_bp': [70], 'waist': [33], 'hip': [40], 'waist_hip_ratio': [0.83]}\n",
    "\n",
    "data = pd.DataFrame(data=test)\n",
    "X_test_prediction2 = model.predict(data)\n",
    "print(data)"
   ]
  },
  {
   "cell_type": "code",
   "execution_count": null,
   "id": "09d7c61b",
   "metadata": {},
   "outputs": [],
   "source": []
  }
 ],
 "metadata": {
  "kernelspec": {
   "display_name": "Python 3 (ipykernel)",
   "language": "python",
   "name": "python3"
  },
  "language_info": {
   "codemirror_mode": {
    "name": "ipython",
    "version": 3
   },
   "file_extension": ".py",
   "mimetype": "text/x-python",
   "name": "python",
   "nbconvert_exporter": "python",
   "pygments_lexer": "ipython3",
   "version": "3.9.12"
  }
 },
 "nbformat": 4,
 "nbformat_minor": 5
}
